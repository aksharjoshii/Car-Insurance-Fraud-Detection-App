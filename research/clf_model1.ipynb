{
 "cells": [
  {
   "cell_type": "markdown",
   "metadata": {},
   "source": [
    "**Import Packages and Libraries**"
   ]
  },
  {
   "cell_type": "code",
   "execution_count": 1,
   "metadata": {
    "ExecuteTime": {
     "end_time": "2024-02-14T11:42:55.794622488Z",
     "start_time": "2024-02-14T11:42:51.330873285Z"
    }
   },
   "outputs": [],
   "source": [
    "import os\n",
    "import copy \n",
    "import wandb\n",
    "import cv2\n",
    "import numpy as np\n",
    "import pandas as pd\n",
    "import matplotlib.pyplot as plt\n",
    "from tqdm.auto import tqdm\n",
    "from sklearn.metrics import f1_score, confusion_matrix, precision_score, recall_score\n",
    "\n",
    "import torch\n",
    "import torch.nn.functional as F \n",
    "import torch.nn as nn\n",
    "from torchvision import models \n",
    "from torch.utils.data import DataLoader, WeightedRandomSampler\n",
    "import torch.optim as optim\n",
    "import torchinfo \n",
    "\n",
    "import albumentations as A\n",
    "from albumentations.pytorch import ToTensorV2\n",
    "\n",
    "import warnings\n",
    "warnings.filterwarnings(\"ignore\")\n",
    "\n",
    "from custom_data import CustomDataset\n",
    "from utils import EarlyStopping\n",
    "from create_model import get_model_optimizer"
   ]
  },
  {
   "cell_type": "code",
   "execution_count": null,
   "metadata": {},
   "outputs": [],
   "source": []
  },
  {
   "cell_type": "code",
   "execution_count": 6,
   "metadata": {},
   "outputs": [
    {
     "name": "stdout",
     "output_type": "stream",
     "text": [
      "Help on function roc_curve in module wandb.plot.roc_curve:\n",
      "\n",
      "roc_curve(y_true=None, y_probas=None, labels=None, classes_to_plot=None, title=None, split_table: Optional[bool] = False)\n",
      "    Calculate and visualize receiver operating characteristic (ROC) scores.\n",
      "    \n",
      "    Arguments:\n",
      "        y_true (arr): true sparse labels\n",
      "        y_probas (arr): Target scores, can either be probability estimates, confidence\n",
      "                         values, or non-thresholded measure of decisions.\n",
      "                         shape: (*y_true.shape, num_classes)\n",
      "        labels (list): Named labels for target variable (y). Makes plots easier to\n",
      "                        read by replacing target values with corresponding index.\n",
      "                        For example labels = ['dog', 'cat', 'owl'] all 0s are\n",
      "                        replaced by 'dog', 1s by 'cat'.\n",
      "        classes_to_plot (list): unique values of y_true to include in the plot\n",
      "        split_table (bool): If True, adds \"Custom Chart Tables/\" to the key of the table so that it's logged in a different section.\n",
      "    \n",
      "    Returns:\n",
      "        Nothing. To see plots, go to your W&B run page then expand the 'media' tab\n",
      "            under 'auto visualizations'.\n",
      "    \n",
      "    Example:\n",
      "        ```\n",
      "        wandb.log({'roc-curve': wandb.plot.roc_curve(y_true, y_probas, labels)})\n",
      "        ```\n",
      "\n"
     ]
    }
   ],
   "source": [
    "help(wandb.plot.roc_curve)"
   ]
  },
  {
   "cell_type": "code",
   "execution_count": 2,
   "metadata": {
    "ExecuteTime": {
     "end_time": "2024-02-14T11:44:15.784898670Z",
     "start_time": "2024-02-14T11:44:15.775598117Z"
    }
   },
   "outputs": [
    {
     "name": "stdout",
     "output_type": "stream",
     "text": [
      "cuda\n"
     ]
    }
   ],
   "source": [
    "device = \"cuda\" if torch.cuda.is_available() else \"cpu\"\n",
    "print(device)"
   ]
  },
  {
   "cell_type": "code",
   "execution_count": 20,
   "metadata": {},
   "outputs": [],
   "source": [
    "early_stopping = EarlyStopping(patience=5, min_delta=0.0001, restore_best_weights=True)"
   ]
  },
  {
   "cell_type": "code",
   "execution_count": 3,
   "metadata": {
    "ExecuteTime": {
     "end_time": "2024-02-14T11:44:18.217679679Z",
     "start_time": "2024-02-14T11:44:18.210800148Z"
    }
   },
   "outputs": [
    {
     "name": "stdout",
     "output_type": "stream",
     "text": [
      "../data/car_images/train\n",
      "../data/car_images/valid\n"
     ]
    }
   ],
   "source": [
    "data_dir = '../data/car_images'\n",
    "train_dir = os.path.join(data_dir, 'train')\n",
    "validation_dir = os.path.join(data_dir, 'valid')\n",
    "print(train_dir) \n",
    "print(validation_dir)"
   ]
  },
  {
   "cell_type": "markdown",
   "metadata": {},
   "source": [
    "#### **Image Transformation and  Augmentation**"
   ]
  },
  {
   "cell_type": "code",
   "execution_count": 4,
   "metadata": {},
   "outputs": [],
   "source": [
    "# Define dataset transforms \n",
    "def get_transforms():\n",
    "    \"\"\"\n",
    "    \n",
    "    \"\"\"\n",
    "    minority_transform = A.Compose([\n",
    "        A.HorizontalFlip(p=0.5),\n",
    "        A.ShiftScaleRotate(p=0.5),\n",
    "        A.RandomRotate90(p=0.3),\n",
    "        A.OpticalDistortion(always_apply=False, p=0.4, distort_limit=(-0.23, 0.09), shift_limit=(-0.13, 0.22), interpolation=1),\n",
    "        A.CLAHE(always_apply=False, p=0.3, clip_limit=(1, 11), tile_grid_size=(5, 5)),\n",
    "        A.RandomBrightnessContrast(brightness_limit=0.2, contrast_limit=0.2, p=0.4),\n",
    "        A.Normalize(mean=[0.485, 0.456, 0.406], std=[0.229, 0.224, 0.225]),\n",
    "        A.Resize(height=224, width=224, interpolation=cv2.INTER_AREA), \n",
    "        ToTensorV2()\n",
    "    ])\n",
    "    majority_transform = A.Compose([\n",
    "        A.HorizontalFlip(p=0.5),\n",
    "        A.RandomRotate90(p=0.3),\n",
    "        A.RandomBrightnessContrast(brightness_limit=0.2, contrast_limit=0.2, p=0.5),\n",
    "        A.Normalize(mean=[0.485, 0.456, 0.406], std=[0.229, 0.224, 0.225]),\n",
    "        A.Resize(height=224, width=224, interpolation=cv2.INTER_AREA), \n",
    "        ToTensorV2()\n",
    "    ])\n",
    "\n",
    "    test_transform = A.Compose([\n",
    "        A.Normalize(mean=[0.485, 0.456, 0.406], std=[0.229, 0.224, 0.225]),\n",
    "        A.Resize(height=224, width=224, interpolation=cv2.INTER_AREA),\n",
    "        ToTensorV2()\n",
    "        \n",
    "    ])\n",
    "\n",
    "    return minority_transform, majority_transform, test_transform"
   ]
  },
  {
   "cell_type": "code",
   "execution_count": null,
   "metadata": {},
   "outputs": [],
   "source": []
  },
  {
   "cell_type": "code",
   "execution_count": 5,
   "metadata": {},
   "outputs": [],
   "source": [
    "def get_dataloaders(config,\n",
    "                    root_dir: str,\n",
    "                    ):\n",
    "    \"\"\"\n",
    "    \n",
    "    \"\"\"\n",
    "    minority_transform, majority_transform, test_transform = get_transforms()\n",
    "    train_dataset = CustomDataset(data_dir=root_dir, mode='train', transform={'minority': minority_transform, 'majority': majority_transform})\n",
    "    valid_dataset = CustomDataset(data_dir=root_dir, mode='valid', transform=test_transform)\n",
    "    \n",
    "\n",
    "    if config.sampling : \n",
    "        # Create WeightedRandomSampler for training dataset\n",
    "        weights_train = [train_dataset.class_weights[label] for label in train_dataset.labels]\n",
    "        sampler_train = WeightedRandomSampler(weights_train, len(weights_train), replacement=True)\n",
    "        train_loader = DataLoader(train_dataset, batch_size=config.batch_size, sampler= sampler_train, num_workers=8, pin_memory=True)\n",
    "        validation_loader = DataLoader(valid_dataset, batch_size=config.batch_size, shuffle=False, num_workers= 8, pin_memory=True)\n",
    "    else: \n",
    "        train_loader = DataLoader(train_dataset, batch_size=config.batch_size, shuffle=True, num_workers=8, pin_memory=True)\n",
    "        validation_loader = DataLoader(valid_dataset, batch_size=config.batch_size, shuffle=False, num_workers=8, pin_memory=True)\n",
    "\n",
    "    return train_loader, validation_loader"
   ]
  },
  {
   "cell_type": "code",
   "execution_count": null,
   "metadata": {},
   "outputs": [],
   "source": []
  },
  {
   "cell_type": "code",
   "execution_count": null,
   "metadata": {},
   "outputs": [],
   "source": []
  },
  {
   "cell_type": "markdown",
   "metadata": {},
   "source": [
    "### **TRAINING LOOP**"
   ]
  },
  {
   "cell_type": "code",
   "execution_count": 24,
   "metadata": {},
   "outputs": [],
   "source": [
    "def training_model(model,dataloader,\n",
    "                    optimizer, \n",
    "                    loss_fn, \n",
    "                    device\n",
    "                    ):\n",
    "    \n",
    "    #wandb.watch(model, loss_fn, log='all', log_freq='50')\n",
    "\n",
    "    model.train()\n",
    "    L , acc = 0, 0\n",
    "    true_labels , predicted_labels = [], [] \n",
    "    for i , (images, labels, _) in enumerate(dataloader):\n",
    "\n",
    "        images = images['image'].to(device)\n",
    "        labels = labels.to(device)\n",
    "       \n",
    "        # Forward Pass\n",
    "        y_pred = model(images)\n",
    "        loss = loss_fn(y_pred, labels)\n",
    "        #backward pass\n",
    "        optimizer.zero_grad()\n",
    "        loss.backward()\n",
    "        #Step with optimizer\n",
    "        optimizer.step()\n",
    "        \n",
    "        L += loss.item()\n",
    "        acc += (y_pred.argmax(dim=1) == labels).sum().item()\n",
    "\n",
    "        true_labels.extend(labels.cpu().numpy())\n",
    "        predicted_labels.extend(y_pred.argmax(dim=1).cpu().numpy())\n",
    "    \n",
    "    # Calculate average loss and accuracy\n",
    "    avg_loss = L / len(dataloader)\n",
    "    accuracy = acc/ (len(true_labels))\n",
    "    \n",
    "    # Calculate precision, recall, and AUC-PR\n",
    "    precision = precision_score(true_labels, predicted_labels)\n",
    "    recall = recall_score(true_labels, predicted_labels)\n",
    "    f1 = f1_score(true_labels, predicted_labels, average='macro')\n",
    "    cm = confusion_matrix(true_labels, predicted_labels)\n",
    "    \n",
    "\n",
    "    training_results = {\n",
    "        'Loss' : avg_loss,\n",
    "        'Accuracy' : accuracy,\n",
    "        'Precision' : precision,\n",
    "        'Recall' : recall,\n",
    "        'F1-Macro' : f1,\n",
    "        'Confusion Matrix' : cm\n",
    "    }\n",
    "    \n",
    "    \n",
    "    return training_results"
   ]
  },
  {
   "cell_type": "markdown",
   "metadata": {},
   "source": [
    "### **VALIDATION LOOP**"
   ]
  },
  {
   "cell_type": "code",
   "execution_count": 25,
   "metadata": {},
   "outputs": [],
   "source": [
    "def validation_model(model,\n",
    "                     dataloader,\n",
    "                     loss_fn, \n",
    "                     device,\n",
    "                     early_stopping = None,\n",
    "                     ):\n",
    "\n",
    "    model.eval()\n",
    "    L , acc = 0, 0\n",
    "    true_labels , predicted_labels = [], []\n",
    "    \n",
    "    with torch.no_grad():\n",
    "    \n",
    "        for i , (images, labels) in enumerate(dataloader):\n",
    "            images = images['image'].to(device)\n",
    "            labels = labels.to(device)\n",
    "          \n",
    "            y_pred = model(images)\n",
    "            loss = loss_fn(y_pred, labels)\n",
    "            L += loss.item()\n",
    "            acc += (y_pred.argmax(dim=1) == labels).sum().item()\n",
    "\n",
    "            true_labels.extend(labels.cpu().numpy())\n",
    "            predicted_labels.extend(y_pred.argmax(dim=1).detach().cpu().numpy())\n",
    "\n",
    "            # # Early stopping check\n",
    "            if early_stopping and early_stopping(model, loss.item()):\n",
    "                break  # Early stopping triggered, exit loop\n",
    "    \n",
    "    # Calculate average loss and accuracy\n",
    "    avg_loss = L / len(dataloader)\n",
    "    accuracy = acc/ (len(true_labels))\n",
    "    \n",
    "    # Calculate precision, recall, and AUC-PR\n",
    "    precision = precision_score(true_labels, predicted_labels)\n",
    "    recall = recall_score(true_labels, predicted_labels)\n",
    "    f1 = f1_score(true_labels, predicted_labels, average='macro')\n",
    "    cm = confusion_matrix(true_labels, predicted_labels)\n",
    "    \n",
    "    # Early stopping check based on F1-score\n",
    "    if early_stopping and early_stopping(model, f1):\n",
    "        print(\"Early stopping triggered.\")\n",
    "        model.train()\n",
    "        return None  # Indicate early stopping\n",
    "\n",
    "\n",
    "    validation_results = {\n",
    "        'Loss' : avg_loss,\n",
    "        'Accuracy' : accuracy,\n",
    "        'Precision' : precision,\n",
    "        'Recall' : recall,\n",
    "        'F1-Macro' : f1,\n",
    "        'Confusion Matrix' : cm\n",
    "    }\n",
    "     # Early stopping check based on F1-score\n",
    "    if early_stopping and early_stopping(model, f1):\n",
    "        print(\"Early stopping triggered.\")\n",
    "        model.train()\n",
    "        return None  # Indicate early stopping\n",
    "\n",
    "    model.train()\n",
    "        \n",
    "    return validation_results, true_labels, predicted_labels"
   ]
  },
  {
   "cell_type": "markdown",
   "metadata": {},
   "source": [
    "### **Model Training Pipeline**"
   ]
  },
  {
   "cell_type": "code",
   "execution_count": 26,
   "metadata": {},
   "outputs": [],
   "source": [
    "def model_pipeline( hyperparams, data_dir=data_dir, device=device):\n",
    "        wandb.init(project='Insurance_Fraud_V2', name='efnetb0-nosampling_1', config=hyperparams)\n",
    "        config = wandb.config\n",
    "\n",
    "        # get  data loaders \n",
    "        train_loader, valid_loader = get_dataloaders(config=config, root_dir=data_dir)\n",
    "        # get model , optimisers and loss function \n",
    "        model, optimizer = get_model_optimizer(config=config, device=device)\n",
    "        model = model.to(device)\n",
    "        loss_fn = nn.CrossEntropyLoss()\n",
    "        for epoch in tqdm(range(config.epochs)):\n",
    "\n",
    "        \n",
    "            train_res = training_model(model=model, \n",
    "                                            dataloader=train_loader,\n",
    "                                            optimizer=optimizer,\n",
    "                                            loss_fn=loss_fn,\n",
    "                                            device=device)\n",
    "            \n",
    "\n",
    "            val_res, y_true, y_pred = validation_model(model=model, \n",
    "                                       dataloader=valid_loader,\n",
    "                                       loss_fn=loss_fn,\n",
    "                                       early_stopping=None,\n",
    "                                        device=device)\n",
    "            \n",
    "            \n",
    "            wandb.log({'train/loss':train_res['Loss'] ,'train/precsion': train_res['Precision'],\n",
    "                       'train/recall':train_res['Recall'] ,'train/f1-macro':train_res['F1-Macro'],\n",
    "                       })\n",
    "            \n",
    "            wandb.log({'valid/loss':val_res['Loss'],'valid/precsion': val_res['Precision'],\n",
    "                       'valid/recall':val_res['Recall'],'valid/f1-macro':val_res['F1-Macro'],\n",
    "                       'confusion_matrix': wandb.plot.confusion_matrix(y_true=y_true, preds=y_pred,\n",
    "                                                                       class_names=['non-fraudulent', 'fraudulent'])\n",
    "                       })\n",
    "\n",
    "            print(\"**\" * 30)\n",
    "            print(\"EPOCH :\", epoch+1)\n",
    "            print('Training Results: ', train_res)\n",
    "            print('validation_results: ', val_res)\n",
    "            print(\"**\" * 30)\n",
    "            \n",
    "            \n",
    "        \n",
    "        wandb.finish()"
   ]
  },
  {
   "cell_type": "code",
   "execution_count": 27,
   "metadata": {},
   "outputs": [
    {
     "name": "stdout",
     "output_type": "stream",
     "text": [
      "cuda\n"
     ]
    }
   ],
   "source": [
    "device = \"cuda\" if torch.cuda.is_available() else \"cpu\"\n",
    "print(device)"
   ]
  },
  {
   "cell_type": "markdown",
   "metadata": {},
   "source": [
    "### Performance Without Handling Class Imbalance "
   ]
  },
  {
   "cell_type": "code",
   "execution_count": 28,
   "metadata": {},
   "outputs": [
    {
     "name": "stderr",
     "output_type": "stream",
     "text": [
      "\u001b[34m\u001b[1mwandb\u001b[0m: \u001b[33mWARNING\u001b[0m Calling wandb.login() after wandb.init() has no effect.\n"
     ]
    },
    {
     "data": {
      "text/html": [
       "Finishing last run (ID:4nkap5nh) before initializing another..."
      ],
      "text/plain": [
       "<IPython.core.display.HTML object>"
      ]
     },
     "metadata": {},
     "output_type": "display_data"
    },
    {
     "data": {
      "application/vnd.jupyter.widget-view+json": {
       "model_id": "5239bfad8d6d492bb262f5301e39e974",
       "version_major": 2,
       "version_minor": 0
      },
      "text/plain": [
       "VBox(children=(Label(value='0.003 MB of 0.003 MB uploaded\\r'), FloatProgress(value=1.0, max=1.0)))"
      ]
     },
     "metadata": {},
     "output_type": "display_data"
    },
    {
     "data": {
      "text/html": [
       " View run <strong style=\"color:#cdcd00\">efnetb0-nosampling_1</strong> at: <a href='https://wandb.ai/akshar1895/Insurance_Fraud_V2/runs/4nkap5nh' target=\"_blank\">https://wandb.ai/akshar1895/Insurance_Fraud_V2/runs/4nkap5nh</a><br/>Synced 6 W&B file(s), 0 media file(s), 0 artifact file(s) and 0 other file(s)"
      ],
      "text/plain": [
       "<IPython.core.display.HTML object>"
      ]
     },
     "metadata": {},
     "output_type": "display_data"
    },
    {
     "data": {
      "text/html": [
       "Find logs at: <code>./wandb/run-20240216_171450-4nkap5nh/logs</code>"
      ],
      "text/plain": [
       "<IPython.core.display.HTML object>"
      ]
     },
     "metadata": {},
     "output_type": "display_data"
    },
    {
     "data": {
      "text/html": [
       "Successfully finished last run (ID:4nkap5nh). Initializing new run:<br/>"
      ],
      "text/plain": [
       "<IPython.core.display.HTML object>"
      ]
     },
     "metadata": {},
     "output_type": "display_data"
    },
    {
     "data": {
      "application/vnd.jupyter.widget-view+json": {
       "model_id": "e53e1ecdf15b4ee8a03358ecdb506820",
       "version_major": 2,
       "version_minor": 0
      },
      "text/plain": [
       "VBox(children=(Label(value='Waiting for wandb.init()...\\r'), FloatProgress(value=0.011114389822230604, max=1.0…"
      ]
     },
     "metadata": {},
     "output_type": "display_data"
    },
    {
     "data": {
      "text/html": [
       "Tracking run with wandb version 0.16.3"
      ],
      "text/plain": [
       "<IPython.core.display.HTML object>"
      ]
     },
     "metadata": {},
     "output_type": "display_data"
    },
    {
     "data": {
      "text/html": [
       "Run data is saved locally in <code>/home/akshar/Projects/Fraud_Classification/research/wandb/run-20240216_172238-o6szymfd</code>"
      ],
      "text/plain": [
       "<IPython.core.display.HTML object>"
      ]
     },
     "metadata": {},
     "output_type": "display_data"
    },
    {
     "data": {
      "text/html": [
       "Syncing run <strong><a href='https://wandb.ai/akshar1895/Insurance_Fraud_V2/runs/o6szymfd' target=\"_blank\">efnetb0-nosampling_1</a></strong> to <a href='https://wandb.ai/akshar1895/Insurance_Fraud_V2' target=\"_blank\">Weights & Biases</a> (<a href='https://wandb.me/run' target=\"_blank\">docs</a>)<br/>"
      ],
      "text/plain": [
       "<IPython.core.display.HTML object>"
      ]
     },
     "metadata": {},
     "output_type": "display_data"
    },
    {
     "data": {
      "text/html": [
       " View project at <a href='https://wandb.ai/akshar1895/Insurance_Fraud_V2' target=\"_blank\">https://wandb.ai/akshar1895/Insurance_Fraud_V2</a>"
      ],
      "text/plain": [
       "<IPython.core.display.HTML object>"
      ]
     },
     "metadata": {},
     "output_type": "display_data"
    },
    {
     "data": {
      "text/html": [
       " View run at <a href='https://wandb.ai/akshar1895/Insurance_Fraud_V2/runs/o6szymfd' target=\"_blank\">https://wandb.ai/akshar1895/Insurance_Fraud_V2/runs/o6szymfd</a>"
      ],
      "text/plain": [
       "<IPython.core.display.HTML object>"
      ]
     },
     "metadata": {},
     "output_type": "display_data"
    },
    {
     "data": {
      "application/vnd.jupyter.widget-view+json": {
       "model_id": "ed683c05d2734400953bb4f3a5c8782a",
       "version_major": 2,
       "version_minor": 0
      },
      "text/plain": [
       "  0%|          | 0/10 [00:00<?, ?it/s]"
      ]
     },
     "metadata": {},
     "output_type": "display_data"
    },
    {
     "name": "stdout",
     "output_type": "stream",
     "text": [
      "************************************************************\n",
      "EPOCH : 1\n",
      "Training Results:  {'Loss': 0.16553809855474472, 'Accuracy': 0.9463097632678322, 'Precision': 0.5661375661375662, 'Recall': 0.28763440860215056, 'F1-Macro': 0.6766992971507613, 'Confusion Matrix': array([[6009,   82],\n",
      "       [ 265,  107]])}\n",
      "validation_results:  {'Loss': 0.16223980464262538, 'Accuracy': 0.9449257425742574, 'Precision': 0.5434782608695652, 'Recall': 0.26881720430107525, 'F1-Macro': 0.6654687888874158, 'Confusion Matrix': array([[1502,   21],\n",
      "       [  68,   25]])}\n",
      "************************************************************\n",
      "************************************************************\n",
      "EPOCH : 2\n",
      "Training Results:  {'Loss': 0.12930281569093172, 'Accuracy': 0.9559028315023983, 'Precision': 0.7004608294930875, 'Recall': 0.40860215053763443, 'F1-Macro': 0.7465138960431119, 'Confusion Matrix': array([[6026,   65],\n",
      "       [ 220,  152]])}\n",
      "validation_results:  {'Loss': 0.1613893452847358, 'Accuracy': 0.9418316831683168, 'Precision': 0.49557522123893805, 'Recall': 0.6021505376344086, 'F1-Macro': 0.756312604675338, 'Confusion Matrix': array([[1466,   57],\n",
      "       [  37,   56]])}\n",
      "************************************************************\n",
      "************************************************************\n",
      "EPOCH : 3\n",
      "Training Results:  {'Loss': 0.12462369012093116, 'Accuracy': 0.9602351848986539, 'Precision': 0.757847533632287, 'Recall': 0.4543010752688172, 'F1-Macro': 0.7736127230066465, 'Confusion Matrix': array([[6037,   54],\n",
      "       [ 203,  169]])}\n",
      "validation_results:  {'Loss': 0.10647434411146263, 'Accuracy': 0.9647277227722773, 'Precision': 0.9285714285714286, 'Recall': 0.41935483870967744, 'F1-Macro': 0.7796864349011587, 'Confusion Matrix': array([[1520,    3],\n",
      "       [  54,   39]])}\n",
      "************************************************************\n",
      "************************************************************\n",
      "EPOCH : 4\n",
      "Training Results:  {'Loss': 0.09916186526805015, 'Accuracy': 0.9678168033421012, 'Precision': 0.8082706766917294, 'Recall': 0.5779569892473119, 'F1-Macro': 0.8285270539446186, 'Confusion Matrix': array([[6040,   51],\n",
      "       [ 157,  215]])}\n",
      "validation_results:  {'Loss': 0.12534305983508873, 'Accuracy': 0.9523514851485149, 'Precision': 0.5740740740740741, 'Recall': 0.6666666666666666, 'F1-Macro': 0.7957556329208462, 'Confusion Matrix': array([[1477,   46],\n",
      "       [  31,   62]])}\n",
      "************************************************************\n",
      "************************************************************\n",
      "EPOCH : 5\n",
      "Training Results:  {'Loss': 0.08692318272758459, 'Accuracy': 0.9726133374593842, 'Precision': 0.8350515463917526, 'Recall': 0.6532258064516129, 'F1-Macro': 0.8592990059860752, 'Confusion Matrix': array([[6043,   48],\n",
      "       [ 129,  243]])}\n",
      "validation_results:  {'Loss': 0.09253489068423462, 'Accuracy': 0.9672029702970297, 'Precision': 0.7777777777777778, 'Recall': 0.6021505376344086, 'F1-Macro': 0.8307535742162413, 'Confusion Matrix': array([[1507,   16],\n",
      "       [  37,   56]])}\n",
      "************************************************************\n",
      "************************************************************\n",
      "EPOCH : 6\n",
      "Training Results:  {'Loss': 0.08441125343284007, 'Accuracy': 0.9709113414822838, 'Precision': 0.815068493150685, 'Recall': 0.6397849462365591, 'F1-Macro': 0.8507677750637193, 'Confusion Matrix': array([[6037,   54],\n",
      "       [ 134,  238]])}\n",
      "validation_results:  {'Loss': 0.09714320770437175, 'Accuracy': 0.968440594059406, 'Precision': 0.9038461538461539, 'Recall': 0.5053763440860215, 'F1-Macro': 0.8158774839985254, 'Confusion Matrix': array([[1518,    5],\n",
      "       [  46,   47]])}\n",
      "************************************************************\n",
      "************************************************************\n",
      "EPOCH : 7\n",
      "Training Results:  {'Loss': 0.08278304478672269, 'Accuracy': 0.9727680643663933, 'Precision': 0.8333333333333334, 'Recall': 0.6586021505376344, 'F1-Macro': 0.860690053838504, 'Confusion Matrix': array([[6042,   49],\n",
      "       [ 127,  245]])}\n",
      "validation_results:  {'Loss': 0.07736258124379386, 'Accuracy': 0.9771039603960396, 'Precision': 0.8783783783783784, 'Recall': 0.6989247311827957, 'F1-Macro': 0.8831856678160808, 'Confusion Matrix': array([[1514,    9],\n",
      "       [  28,   65]])}\n",
      "************************************************************\n",
      "************************************************************\n",
      "EPOCH : 8\n",
      "Training Results:  {'Loss': 0.08151501660047349, 'Accuracy': 0.9719944298313477, 'Precision': 0.8131147540983606, 'Recall': 0.6666666666666666, 'F1-Macro': 0.858933650629304, 'Confusion Matrix': array([[6034,   57],\n",
      "       [ 124,  248]])}\n",
      "validation_results:  {'Loss': 0.11913463733006859, 'Accuracy': 0.9511138613861386, 'Precision': 0.9375, 'Recall': 0.16129032258064516, 'F1-Macro': 0.6249665841184229, 'Confusion Matrix': array([[1522,    1],\n",
      "       [  78,   15]])}\n",
      "************************************************************\n",
      "************************************************************\n",
      "EPOCH : 9\n",
      "Training Results:  {'Loss': 0.06695220180951972, 'Accuracy': 0.9771004177626489, 'Precision': 0.856687898089172, 'Recall': 0.7231182795698925, 'F1-Macro': 0.886082528249395, 'Confusion Matrix': array([[6046,   45],\n",
      "       [ 103,  269]])}\n",
      "validation_results:  {'Loss': 0.11604171571158113, 'Accuracy': 0.9628712871287128, 'Precision': 0.9714285714285714, 'Recall': 0.3655913978494624, 'F1-Macro': 0.7559600515463918, 'Confusion Matrix': array([[1522,    1],\n",
      "       [  59,   34]])}\n",
      "************************************************************\n",
      "************************************************************\n",
      "EPOCH : 10\n",
      "Training Results:  {'Loss': 0.0629785871527983, 'Accuracy': 0.9798855020888132, 'Precision': 0.8734567901234568, 'Recall': 0.760752688172043, 'F1-Macro': 0.9012943957293634, 'Confusion Matrix': array([[6050,   41],\n",
      "       [  89,  283]])}\n",
      "validation_results:  {'Loss': 0.08385645138851303, 'Accuracy': 0.9727722772277227, 'Precision': 1.0, 'Recall': 0.5268817204301075, 'F1-Macro': 0.8379506814348876, 'Confusion Matrix': array([[1523,    0],\n",
      "       [  44,   49]])}\n",
      "************************************************************\n"
     ]
    },
    {
     "data": {
      "application/vnd.jupyter.widget-view+json": {
       "model_id": "2c114e2cf1654d9e8e00df784062d8c2",
       "version_major": 2,
       "version_minor": 0
      },
      "text/plain": [
       "VBox(children=(Label(value='0.010 MB of 0.011 MB uploaded\\r'), FloatProgress(value=0.9425675675675675, max=1.0…"
      ]
     },
     "metadata": {},
     "output_type": "display_data"
    },
    {
     "data": {
      "text/html": [
       "<style>\n",
       "    table.wandb td:nth-child(1) { padding: 0 10px; text-align: left ; width: auto;} td:nth-child(2) {text-align: left ; width: 100%}\n",
       "    .wandb-row { display: flex; flex-direction: row; flex-wrap: wrap; justify-content: flex-start; width: 100% }\n",
       "    .wandb-col { display: flex; flex-direction: column; flex-basis: 100%; flex: 1; padding: 10px; }\n",
       "    </style>\n",
       "<div class=\"wandb-row\"><div class=\"wandb-col\"><h3>Run history:</h3><br/><table class=\"wandb\"><tr><td>train/f1-macro</td><td>▁▃▄▆▇▆▇▇██</td></tr><tr><td>train/loss</td><td>█▆▅▃▃▂▂▂▁▁</td></tr><tr><td>train/precsion</td><td>▁▄▅▇▇▇▇▇██</td></tr><tr><td>train/recall</td><td>▁▃▃▅▆▆▆▇▇█</td></tr><tr><td>valid/f1-macro</td><td>▂▅▅▆▇▆█▁▅▇</td></tr><tr><td>valid/loss</td><td>██▃▅▂▃▁▄▄▂</td></tr><tr><td>valid/precsion</td><td>▂▁▇▂▅▇▆▇██</td></tr><tr><td>valid/recall</td><td>▂▇▄█▇▅█▁▄▆</td></tr></table><br/></div><div class=\"wandb-col\"><h3>Run summary:</h3><br/><table class=\"wandb\"><tr><td>train/f1-macro</td><td>0.90129</td></tr><tr><td>train/loss</td><td>0.06298</td></tr><tr><td>train/precsion</td><td>0.87346</td></tr><tr><td>train/recall</td><td>0.76075</td></tr><tr><td>valid/f1-macro</td><td>0.83795</td></tr><tr><td>valid/loss</td><td>0.08386</td></tr><tr><td>valid/precsion</td><td>1.0</td></tr><tr><td>valid/recall</td><td>0.52688</td></tr></table><br/></div></div>"
      ],
      "text/plain": [
       "<IPython.core.display.HTML object>"
      ]
     },
     "metadata": {},
     "output_type": "display_data"
    },
    {
     "data": {
      "text/html": [
       " View run <strong style=\"color:#cdcd00\">efnetb0-nosampling_1</strong> at: <a href='https://wandb.ai/akshar1895/Insurance_Fraud_V2/runs/o6szymfd' target=\"_blank\">https://wandb.ai/akshar1895/Insurance_Fraud_V2/runs/o6szymfd</a><br/>Synced 6 W&B file(s), 10 media file(s), 10 artifact file(s) and 0 other file(s)"
      ],
      "text/plain": [
       "<IPython.core.display.HTML object>"
      ]
     },
     "metadata": {},
     "output_type": "display_data"
    },
    {
     "data": {
      "text/html": [
       "Find logs at: <code>./wandb/run-20240216_172238-o6szymfd/logs</code>"
      ],
      "text/plain": [
       "<IPython.core.display.HTML object>"
      ]
     },
     "metadata": {},
     "output_type": "display_data"
    }
   ],
   "source": [
    "config = dict(\n",
    "    epochs = 10,\n",
    "    classes = 2, \n",
    "    batch_size = 16,\n",
    "    lr = 1e-3,\n",
    "    architecture = 'EfficientNet_B0',\n",
    "    num_workers = os.cpu_count(),\n",
    "    sampling = False\n",
    ")\n",
    "wandb.login()\n",
    "model_pipeline(data_dir=data_dir, device=device, hyperparams=config)"
   ]
  },
  {
   "cell_type": "markdown",
   "metadata": {},
   "source": []
  },
  {
   "cell_type": "markdown",
   "metadata": {},
   "source": [
    "### **Performance After Handling Class Imbalance(Weighted Random Sampling)**"
   ]
  },
  {
   "cell_type": "code",
   "execution_count": 12,
   "metadata": {},
   "outputs": [
    {
     "name": "stderr",
     "output_type": "stream",
     "text": [
      "Failed to detect the name of this notebook, you can set it manually with the WANDB_NOTEBOOK_NAME environment variable to enable code saving.\n",
      "\u001b[34m\u001b[1mwandb\u001b[0m: Currently logged in as: \u001b[33makshar1895\u001b[0m. Use \u001b[1m`wandb login --relogin`\u001b[0m to force relogin\n"
     ]
    },
    {
     "data": {
      "text/html": [
       "Tracking run with wandb version 0.16.3"
      ],
      "text/plain": [
       "<IPython.core.display.HTML object>"
      ]
     },
     "metadata": {},
     "output_type": "display_data"
    },
    {
     "data": {
      "text/html": [
       "Run data is saved locally in <code>/home/akshar/Projects/Fraud_Classification/research/wandb/run-20240216_164510-j5ieyt0t</code>"
      ],
      "text/plain": [
       "<IPython.core.display.HTML object>"
      ]
     },
     "metadata": {},
     "output_type": "display_data"
    },
    {
     "data": {
      "text/html": [
       "Syncing run <strong><a href='https://wandb.ai/akshar1895/Insurance_Fraud_V2/runs/j5ieyt0t' target=\"_blank\">efnetb0-sampling_1</a></strong> to <a href='https://wandb.ai/akshar1895/Insurance_Fraud_V2' target=\"_blank\">Weights & Biases</a> (<a href='https://wandb.me/run' target=\"_blank\">docs</a>)<br/>"
      ],
      "text/plain": [
       "<IPython.core.display.HTML object>"
      ]
     },
     "metadata": {},
     "output_type": "display_data"
    },
    {
     "data": {
      "text/html": [
       " View project at <a href='https://wandb.ai/akshar1895/Insurance_Fraud_V2' target=\"_blank\">https://wandb.ai/akshar1895/Insurance_Fraud_V2</a>"
      ],
      "text/plain": [
       "<IPython.core.display.HTML object>"
      ]
     },
     "metadata": {},
     "output_type": "display_data"
    },
    {
     "data": {
      "text/html": [
       " View run at <a href='https://wandb.ai/akshar1895/Insurance_Fraud_V2/runs/j5ieyt0t' target=\"_blank\">https://wandb.ai/akshar1895/Insurance_Fraud_V2/runs/j5ieyt0t</a>"
      ],
      "text/plain": [
       "<IPython.core.display.HTML object>"
      ]
     },
     "metadata": {},
     "output_type": "display_data"
    },
    {
     "data": {
      "application/vnd.jupyter.widget-view+json": {
       "model_id": "f17d4ef9a61649d191c3613a8f1acbd8",
       "version_major": 2,
       "version_minor": 0
      },
      "text/plain": [
       "  0%|          | 0/10 [00:00<?, ?it/s]"
      ]
     },
     "metadata": {},
     "output_type": "display_data"
    },
    {
     "name": "stdout",
     "output_type": "stream",
     "text": [
      "************************************************************\n",
      "EPOCH : 1\n",
      "Training Results:  {'Loss': 0.2917914262484058, 'Accuracy': 0.8802413739749343, 'Precision': 0.880569306930693, 'Recall': 0.8800247371675943, 'F1-Macro': 0.880241348171287, 'Confusion Matrix': array([[2843,  386],\n",
      "       [ 388, 2846]])}\n",
      "validation_results:  {'Loss': 0.1371480336062389, 'Accuracy': 0.9560643564356436, 'Precision': 0.5753424657534246, 'Recall': 0.9032258064516129, 'F1-Macro': 0.8396034261253944, 'Confusion Matrix': array([[1461,   62],\n",
      "       [   9,   84]])}\n",
      "************************************************************\n",
      "************************************************************\n",
      "EPOCH : 2\n",
      "Training Results:  {'Loss': 0.18498744975918405, 'Accuracy': 0.926814172984682, 'Precision': 0.9248826291079812, 'Recall': 0.926913425345044, 'F1-Macro': 0.9268029578319052, 'Confusion Matrix': array([[3035,  240],\n",
      "       [ 233, 2955]])}\n",
      "validation_results:  {'Loss': 0.11986053611917219, 'Accuracy': 0.9554455445544554, 'Precision': 0.5686274509803921, 'Recall': 0.9354838709677419, 'F1-Macro': 0.841602274026759, 'Confusion Matrix': array([[1457,   66],\n",
      "       [   6,   87]])}\n",
      "************************************************************\n",
      "************************************************************\n",
      "EPOCH : 3\n",
      "Training Results:  {'Loss': 0.1548091044948012, 'Accuracy': 0.9435246789416679, 'Precision': 0.9436183395291202, 'Recall': 0.9433261071539176, 'F1-Macro': 0.94352463026809, 'Confusion Matrix': array([[3052,  182],\n",
      "       [ 183, 3046]])}\n",
      "validation_results:  {'Loss': 0.08929194643687789, 'Accuracy': 0.968440594059406, 'Precision': 0.6590909090909091, 'Recall': 0.9354838709677419, 'F1-Macro': 0.8781864538299523, 'Confusion Matrix': array([[1478,   45],\n",
      "       [   6,   87]])}\n",
      "************************************************************\n",
      "************************************************************\n",
      "EPOCH : 4\n",
      "Training Results:  {'Loss': 0.11562425776852737, 'Accuracy': 0.9583784620145444, 'Precision': 0.9578032888613094, 'Recall': 0.9586956521739131, 'F1-Macro': 0.958378063435958, 'Confusion Matrix': array([[3107,  136],\n",
      "       [ 133, 3087]])}\n",
      "validation_results:  {'Loss': 0.0345061240426154, 'Accuracy': 0.9938118811881188, 'Precision': 0.9560439560439561, 'Recall': 0.9354838709677419, 'F1-Macro': 0.9711856670090151, 'Confusion Matrix': array([[1519,    4],\n",
      "       [   6,   87]])}\n",
      "************************************************************\n",
      "************************************************************\n",
      "EPOCH : 5\n",
      "Training Results:  {'Loss': 0.1000788496135236, 'Accuracy': 0.9630202692248182, 'Precision': 0.9637034758535835, 'Recall': 0.9628149969268592, 'F1-Macro': 0.9630187074717962, 'Confusion Matrix': array([[3091,  118],\n",
      "       [ 121, 3133]])}\n",
      "validation_results:  {'Loss': 0.027219284466746735, 'Accuracy': 0.9925742574257426, 'Precision': 0.9550561797752809, 'Recall': 0.9139784946236559, 'F1-Macro': 0.9650657539182129, 'Confusion Matrix': array([[1519,    4],\n",
      "       [   8,   85]])}\n",
      "************************************************************\n",
      "************************************************************\n",
      "EPOCH : 6\n",
      "Training Results:  {'Loss': 0.09208402986527883, 'Accuracy': 0.968745164784156, 'Precision': 0.9673716012084592, 'Recall': 0.9714805825242718, 'F1-Macro': 0.9687298562488263, 'Confusion Matrix': array([[3059,  108],\n",
      "       [  94, 3202]])}\n",
      "validation_results:  {'Loss': 0.04367567424830695, 'Accuracy': 0.9870049504950495, 'Precision': 0.8673469387755102, 'Recall': 0.9139784946236559, 'F1-Macro': 0.9415733664353314, 'Confusion Matrix': array([[1510,   13],\n",
      "       [   8,   85]])}\n",
      "************************************************************\n",
      "************************************************************\n",
      "EPOCH : 7\n",
      "Training Results:  {'Loss': 0.07896048039999574, 'Accuracy': 0.9732322450874207, 'Precision': 0.9740980573543015, 'Recall': 0.9725985221674877, 'F1-Macro': 0.9732317426663444, 'Confusion Matrix': array([[3131,   84],\n",
      "       [  89, 3159]])}\n",
      "validation_results:  {'Loss': 0.02526055304964631, 'Accuracy': 0.9900990099009901, 'Precision': 0.8598130841121495, 'Recall': 0.989247311827957, 'F1-Macro': 0.9573614775725594, 'Confusion Matrix': array([[1508,   15],\n",
      "       [   1,   92]])}\n",
      "************************************************************\n",
      "************************************************************\n",
      "EPOCH : 8\n",
      "Training Results:  {'Loss': 0.06987720508496381, 'Accuracy': 0.974779514157512, 'Precision': 0.9740340030911901, 'Recall': 0.9755417956656347, 'F1-Macro': 0.9747795117423561, 'Confusion Matrix': array([[3149,   84],\n",
      "       [  79, 3151]])}\n",
      "validation_results:  {'Loss': 0.02791858783252837, 'Accuracy': 0.9888613861386139, 'Precision': 0.9120879120879121, 'Recall': 0.8924731182795699, 'F1-Macro': 0.9481342006162273, 'Confusion Matrix': array([[1515,    8],\n",
      "       [  10,   83]])}\n",
      "************************************************************\n",
      "************************************************************\n",
      "EPOCH : 9\n",
      "Training Results:  {'Loss': 0.07098654819679669, 'Accuracy': 0.9761720563205941, 'Precision': 0.9759675405742821, 'Recall': 0.9759675405742821, 'F1-Macro': 0.97617033058171, 'Confusion Matrix': array([[3182,   77],\n",
      "       [  77, 3127]])}\n",
      "validation_results:  {'Loss': 0.023995163681050116, 'Accuracy': 0.9913366336633663, 'Precision': 0.883495145631068, 'Recall': 0.978494623655914, 'F1-Macro': 0.9619800489365706, 'Confusion Matrix': array([[1511,   12],\n",
      "       [   2,   91]])}\n",
      "************************************************************\n",
      "************************************************************\n",
      "EPOCH : 10\n",
      "Training Results:  {'Loss': 0.06354960739096922, 'Accuracy': 0.9795760482747949, 'Precision': 0.9784615384615385, 'Recall': 0.9808760024676126, 'F1-Macro': 0.9795756370529253, 'Confusion Matrix': array([[3151,   70],\n",
      "       [  62, 3180]])}\n",
      "validation_results:  {'Loss': 0.017517290504575515, 'Accuracy': 0.994430693069307, 'Precision': 0.9285714285714286, 'Recall': 0.978494623655914, 'F1-Macro': 0.9749600141865706, 'Confusion Matrix': array([[1516,    7],\n",
      "       [   2,   91]])}\n",
      "************************************************************\n"
     ]
    },
    {
     "data": {
      "application/vnd.jupyter.widget-view+json": {
       "model_id": "d03c1ddd181f47929113241698f72505",
       "version_major": 2,
       "version_minor": 0
      },
      "text/plain": [
       "VBox(children=(Label(value='0.010 MB of 0.011 MB uploaded\\r'), FloatProgress(value=0.9425646364740586, max=1.0…"
      ]
     },
     "metadata": {},
     "output_type": "display_data"
    },
    {
     "data": {
      "text/html": [
       "<style>\n",
       "    table.wandb td:nth-child(1) { padding: 0 10px; text-align: left ; width: auto;} td:nth-child(2) {text-align: left ; width: 100%}\n",
       "    .wandb-row { display: flex; flex-direction: row; flex-wrap: wrap; justify-content: flex-start; width: 100% }\n",
       "    .wandb-col { display: flex; flex-direction: column; flex-basis: 100%; flex: 1; padding: 10px; }\n",
       "    </style>\n",
       "<div class=\"wandb-row\"><div class=\"wandb-col\"><h3>Run history:</h3><br/><table class=\"wandb\"><tr><td>train/f1-macro</td><td>▁▄▅▇▇▇████</td></tr><tr><td>train/loss</td><td>█▅▄▃▂▂▁▁▁▁</td></tr><tr><td>train/precsion</td><td>▁▄▆▇▇▇████</td></tr><tr><td>train/recall</td><td>▁▄▅▆▇▇▇███</td></tr><tr><td>valid/f1-macro</td><td>▁▁▃█▇▆▇▇▇█</td></tr><tr><td>valid/loss</td><td>█▇▅▂▂▃▁▂▁▁</td></tr><tr><td>valid/precsion</td><td>▁▁▃██▆▆▇▇█</td></tr><tr><td>valid/recall</td><td>▂▄▄▄▃▃█▁▇▇</td></tr></table><br/></div><div class=\"wandb-col\"><h3>Run summary:</h3><br/><table class=\"wandb\"><tr><td>train/f1-macro</td><td>0.97958</td></tr><tr><td>train/loss</td><td>0.06355</td></tr><tr><td>train/precsion</td><td>0.97846</td></tr><tr><td>train/recall</td><td>0.98088</td></tr><tr><td>valid/f1-macro</td><td>0.97496</td></tr><tr><td>valid/loss</td><td>0.01752</td></tr><tr><td>valid/precsion</td><td>0.92857</td></tr><tr><td>valid/recall</td><td>0.97849</td></tr></table><br/></div></div>"
      ],
      "text/plain": [
       "<IPython.core.display.HTML object>"
      ]
     },
     "metadata": {},
     "output_type": "display_data"
    },
    {
     "data": {
      "text/html": [
       " View run <strong style=\"color:#cdcd00\">efnetb0-sampling_1</strong> at: <a href='https://wandb.ai/akshar1895/Insurance_Fraud_V2/runs/j5ieyt0t' target=\"_blank\">https://wandb.ai/akshar1895/Insurance_Fraud_V2/runs/j5ieyt0t</a><br/>Synced 6 W&B file(s), 10 media file(s), 10 artifact file(s) and 0 other file(s)"
      ],
      "text/plain": [
       "<IPython.core.display.HTML object>"
      ]
     },
     "metadata": {},
     "output_type": "display_data"
    },
    {
     "data": {
      "text/html": [
       "Find logs at: <code>./wandb/run-20240216_164510-j5ieyt0t/logs</code>"
      ],
      "text/plain": [
       "<IPython.core.display.HTML object>"
      ]
     },
     "metadata": {},
     "output_type": "display_data"
    }
   ],
   "source": [
    "config = dict(\n",
    "    epochs = 10,\n",
    "    classes = 2, \n",
    "    batch_size = 16,\n",
    "    lr = 1e-3,\n",
    "    architecture = 'EfficientNet_B0',\n",
    "    num_workers = os.cpu_count(),\n",
    "    sampling = True\n",
    ")\n",
    "wandb.login()\n",
    "model_pipeline(data_dir=data_dir, device=device, hyperparams=config)"
   ]
  },
  {
   "cell_type": "code",
   "execution_count": null,
   "metadata": {},
   "outputs": [],
   "source": []
  },
  {
   "cell_type": "code",
   "execution_count": null,
   "metadata": {},
   "outputs": [],
   "source": []
  },
  {
   "cell_type": "markdown",
   "metadata": {},
   "source": [
    "________________________________"
   ]
  }
 ],
 "metadata": {
  "kernelspec": {
   "display_name": "pytorch",
   "language": "python",
   "name": "python3"
  },
  "language_info": {
   "codemirror_mode": {
    "name": "ipython",
    "version": 3
   },
   "file_extension": ".py",
   "mimetype": "text/x-python",
   "name": "python",
   "nbconvert_exporter": "python",
   "pygments_lexer": "ipython3",
   "version": "3.1.0"
  }
 },
 "nbformat": 4,
 "nbformat_minor": 2
}
